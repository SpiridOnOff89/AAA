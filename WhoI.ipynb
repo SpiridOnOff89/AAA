{
 "cells": [
  {
   "cell_type": "code",
   "execution_count": 2,
   "id": "d707764e",
   "metadata": {},
   "outputs": [
    {
     "name": "stdout",
     "output_type": "stream",
     "text": [
      "Ты кто?а\n",
      "Ты кто?и\n",
      "Ты кто?в\n",
      "Ты кто?а\n",
      "Ты кто?р\n",
      "Ты кто?у\n",
      "Ты кто?а\n",
      "Ты кто?п\n",
      "Ты кто?р\n",
      "Ты кто?ар\n",
      "Ты кто?ыпф\n",
      "Ты кто?рп\n",
      "Ты кто?рф\n",
      "Ты кто?Ксюша\n",
      "Тогда живи!\n"
     ]
    }
   ],
   "source": [
    "name = input('Ты кто?')\n",
    "while name != 'Ксюша':\n",
    "    name = input('Ты кто?')\n",
    "print('Тогда живи!')"
   ]
  }
 ],
 "metadata": {
  "kernelspec": {
   "display_name": "Python 3 (ipykernel)",
   "language": "python",
   "name": "python3"
  },
  "language_info": {
   "codemirror_mode": {
    "name": "ipython",
    "version": 3
   },
   "file_extension": ".py",
   "mimetype": "text/x-python",
   "name": "python",
   "nbconvert_exporter": "python",
   "pygments_lexer": "ipython3",
   "version": "3.9.12"
  }
 },
 "nbformat": 4,
 "nbformat_minor": 5
}
